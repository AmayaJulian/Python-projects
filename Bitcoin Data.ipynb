{
 "cells": [
  {
   "cell_type": "markdown",
   "metadata": {},
   "source": [
    "# Bitcoin Data - CoinDesk API"
   ]
  },
  {
   "cell_type": "code",
   "execution_count": 1,
   "metadata": {},
   "outputs": [],
   "source": [
    "import pandas as pd\n",
    "import numpy as np\n",
    "import requests\n",
    "import json\n",
    "import matplotlib.pyplot as plt\n",
    "plt.style.use('ggplot')"
   ]
  },
  {
   "cell_type": "code",
   "execution_count": 2,
   "metadata": {},
   "outputs": [
    {
     "name": "stdout",
     "output_type": "stream",
     "text": [
      "Type:\n",
      "<class 'requests.models.Response'>\n",
      "\n",
      "Text:\n",
      "{\"bpi\":{\"2013-07-01\":84.6069,\"2013-07-02\":87.6562,\n",
      "\n",
      "URL:\n",
      "https://api.coindesk.com/v1/bpi/historical/close.json?start=2013-07-01&end=2020-08-13\n",
      "\n"
     ]
    }
   ],
   "source": [
    "page = requests.get('https://api.coindesk.com/v1/bpi/historical/close.json?start=2013-07-01&end=2020-08-13')\n",
    "\n",
    "print('Type:\\n{}\\n'.format(type(page)))\n",
    "print('Text:\\n{}\\n'.format(page.text[:50]))\n",
    "print('URL:\\n{}\\n'.format(page.url))"
   ]
  },
  {
   "cell_type": "code",
   "execution_count": 3,
   "metadata": {
    "scrolled": true
   },
   "outputs": [
    {
     "name": "stdout",
     "output_type": "stream",
     "text": [
      "Type:\n",
      "<class 'dict'>\n",
      "\n",
      "Dictionary keys:\n",
      "dict_keys(['bpi', 'disclaimer', 'time'])\n",
      "\n"
     ]
    }
   ],
   "source": [
    "# Turn page.text into a dictionary\n",
    "x = page.json()\n",
    "\n",
    "print('Type:\\n{}\\n'.format(type(x)))\n",
    "print('Dictionary keys:\\n{}\\n'.format(x.keys()))\n",
    "\n",
    "# To take a look at the whole dictionary, uncomment the next line\n",
    "#print('The whole dictionary:\\n{}\\n'.format(json.dumps(x, indent=2)))"
   ]
  },
  {
   "cell_type": "code",
   "execution_count": 4,
   "metadata": {},
   "outputs": [
    {
     "data": {
      "text/html": [
       "<div>\n",
       "<style scoped>\n",
       "    .dataframe tbody tr th:only-of-type {\n",
       "        vertical-align: middle;\n",
       "    }\n",
       "\n",
       "    .dataframe tbody tr th {\n",
       "        vertical-align: top;\n",
       "    }\n",
       "\n",
       "    .dataframe thead th {\n",
       "        text-align: right;\n",
       "    }\n",
       "</style>\n",
       "<table border=\"1\" class=\"dataframe\">\n",
       "  <thead>\n",
       "    <tr style=\"text-align: right;\">\n",
       "      <th></th>\n",
       "      <th>dates</th>\n",
       "      <th>prices</th>\n",
       "    </tr>\n",
       "  </thead>\n",
       "  <tbody>\n",
       "    <tr>\n",
       "      <th>0</th>\n",
       "      <td>2013-07-01</td>\n",
       "      <td>84.6069</td>\n",
       "    </tr>\n",
       "    <tr>\n",
       "      <th>1</th>\n",
       "      <td>2013-07-02</td>\n",
       "      <td>87.6562</td>\n",
       "    </tr>\n",
       "    <tr>\n",
       "      <th>2</th>\n",
       "      <td>2013-07-03</td>\n",
       "      <td>76.8901</td>\n",
       "    </tr>\n",
       "    <tr>\n",
       "      <th>3</th>\n",
       "      <td>2013-07-04</td>\n",
       "      <td>77.6850</td>\n",
       "    </tr>\n",
       "    <tr>\n",
       "      <th>4</th>\n",
       "      <td>2013-07-05</td>\n",
       "      <td>66.3400</td>\n",
       "    </tr>\n",
       "  </tbody>\n",
       "</table>\n",
       "</div>"
      ],
      "text/plain": [
       "       dates   prices\n",
       "0 2013-07-01  84.6069\n",
       "1 2013-07-02  87.6562\n",
       "2 2013-07-03  76.8901\n",
       "3 2013-07-04  77.6850\n",
       "4 2013-07-05  66.3400"
      ]
     },
     "execution_count": 4,
     "metadata": {},
     "output_type": "execute_result"
    }
   ],
   "source": [
    "dates = [k for k,v in x['bpi'].items()]\n",
    "prices = [v for k,v in x['bpi'].items()]\n",
    "\n",
    "df = pd.DataFrame({'dates': dates,\n",
    "                  'prices': prices})\n",
    "df['dates'] = pd.to_datetime(df['dates'])\n",
    "\n",
    "df.head()"
   ]
  },
  {
   "cell_type": "code",
   "execution_count": 5,
   "metadata": {},
   "outputs": [
    {
     "name": "stdout",
     "output_type": "stream",
     "text": [
      "<class 'pandas.core.frame.DataFrame'>\n",
      "RangeIndex: 2601 entries, 0 to 2600\n",
      "Data columns (total 2 columns):\n",
      " #   Column  Non-Null Count  Dtype         \n",
      "---  ------  --------------  -----         \n",
      " 0   dates   2601 non-null   datetime64[ns]\n",
      " 1   prices  2601 non-null   float64       \n",
      "dtypes: datetime64[ns](1), float64(1)\n",
      "memory usage: 40.8 KB\n"
     ]
    }
   ],
   "source": [
    "df.info()"
   ]
  },
  {
   "cell_type": "markdown",
   "metadata": {},
   "source": [
    "## Returns\n",
    "Returns are computed as:\n",
    "\\begin{equation}\n",
    "r_{t} = \\log\\left(\\frac{P_{t}}{P_{t-1}}\\right)\n",
    "\\end{equation}"
   ]
  },
  {
   "cell_type": "code",
   "execution_count": 6,
   "metadata": {},
   "outputs": [
    {
     "data": {
      "text/html": [
       "<div>\n",
       "<style scoped>\n",
       "    .dataframe tbody tr th:only-of-type {\n",
       "        vertical-align: middle;\n",
       "    }\n",
       "\n",
       "    .dataframe tbody tr th {\n",
       "        vertical-align: top;\n",
       "    }\n",
       "\n",
       "    .dataframe thead th {\n",
       "        text-align: right;\n",
       "    }\n",
       "</style>\n",
       "<table border=\"1\" class=\"dataframe\">\n",
       "  <thead>\n",
       "    <tr style=\"text-align: right;\">\n",
       "      <th></th>\n",
       "      <th>dates</th>\n",
       "      <th>prices</th>\n",
       "      <th>returns</th>\n",
       "    </tr>\n",
       "  </thead>\n",
       "  <tbody>\n",
       "    <tr>\n",
       "      <th>0</th>\n",
       "      <td>2013-07-01</td>\n",
       "      <td>84.6069</td>\n",
       "      <td>NaN</td>\n",
       "    </tr>\n",
       "    <tr>\n",
       "      <th>1</th>\n",
       "      <td>2013-07-02</td>\n",
       "      <td>87.6562</td>\n",
       "      <td>0.035407</td>\n",
       "    </tr>\n",
       "    <tr>\n",
       "      <th>2</th>\n",
       "      <td>2013-07-03</td>\n",
       "      <td>76.8901</td>\n",
       "      <td>-0.131045</td>\n",
       "    </tr>\n",
       "    <tr>\n",
       "      <th>3</th>\n",
       "      <td>2013-07-04</td>\n",
       "      <td>77.6850</td>\n",
       "      <td>0.010285</td>\n",
       "    </tr>\n",
       "    <tr>\n",
       "      <th>4</th>\n",
       "      <td>2013-07-05</td>\n",
       "      <td>66.3400</td>\n",
       "      <td>-0.157869</td>\n",
       "    </tr>\n",
       "  </tbody>\n",
       "</table>\n",
       "</div>"
      ],
      "text/plain": [
       "       dates   prices   returns\n",
       "0 2013-07-01  84.6069       NaN\n",
       "1 2013-07-02  87.6562  0.035407\n",
       "2 2013-07-03  76.8901 -0.131045\n",
       "3 2013-07-04  77.6850  0.010285\n",
       "4 2013-07-05  66.3400 -0.157869"
      ]
     },
     "execution_count": 6,
     "metadata": {},
     "output_type": "execute_result"
    }
   ],
   "source": [
    "returns = [np.nan]\n",
    "\n",
    "for i in range(1, len(prices)):\n",
    "    returns.append(np.log(prices[i]/prices[i-1]))\n",
    "\n",
    "df['returns'] = returns\n",
    "df.head()"
   ]
  },
  {
   "cell_type": "code",
   "execution_count": 7,
   "metadata": {},
   "outputs": [
    {
     "name": "stdout",
     "output_type": "stream",
     "text": [
      "Data Frame shape: (2601, 3)\n"
     ]
    }
   ],
   "source": [
    "print('Data Frame shape: {}'.format(df.shape))"
   ]
  },
  {
   "cell_type": "markdown",
   "metadata": {},
   "source": [
    "## Descriptive statistics for daily returns of Bitcoin"
   ]
  },
  {
   "cell_type": "code",
   "execution_count": 8,
   "metadata": {},
   "outputs": [
    {
     "data": {
      "text/html": [
       "<div>\n",
       "<style scoped>\n",
       "    .dataframe tbody tr th:only-of-type {\n",
       "        vertical-align: middle;\n",
       "    }\n",
       "\n",
       "    .dataframe tbody tr th {\n",
       "        vertical-align: top;\n",
       "    }\n",
       "\n",
       "    .dataframe thead th {\n",
       "        text-align: right;\n",
       "    }\n",
       "</style>\n",
       "<table border=\"1\" class=\"dataframe\">\n",
       "  <thead>\n",
       "    <tr style=\"text-align: right;\">\n",
       "      <th></th>\n",
       "      <th>returns</th>\n",
       "    </tr>\n",
       "  </thead>\n",
       "  <tbody>\n",
       "    <tr>\n",
       "      <th>count</th>\n",
       "      <td>2600.000000</td>\n",
       "    </tr>\n",
       "    <tr>\n",
       "      <th>mean</th>\n",
       "      <td>0.001891</td>\n",
       "    </tr>\n",
       "    <tr>\n",
       "      <th>std</th>\n",
       "      <td>0.043111</td>\n",
       "    </tr>\n",
       "    <tr>\n",
       "      <th>min</th>\n",
       "      <td>-0.481214</td>\n",
       "    </tr>\n",
       "    <tr>\n",
       "      <th>25%</th>\n",
       "      <td>-0.012559</td>\n",
       "    </tr>\n",
       "    <tr>\n",
       "      <th>50%</th>\n",
       "      <td>0.001670</td>\n",
       "    </tr>\n",
       "    <tr>\n",
       "      <th>75%</th>\n",
       "      <td>0.018473</td>\n",
       "    </tr>\n",
       "    <tr>\n",
       "      <th>max</th>\n",
       "      <td>0.347752</td>\n",
       "    </tr>\n",
       "  </tbody>\n",
       "</table>\n",
       "</div>"
      ],
      "text/plain": [
       "           returns\n",
       "count  2600.000000\n",
       "mean      0.001891\n",
       "std       0.043111\n",
       "min      -0.481214\n",
       "25%      -0.012559\n",
       "50%       0.001670\n",
       "75%       0.018473\n",
       "max       0.347752"
      ]
     },
     "execution_count": 8,
     "metadata": {},
     "output_type": "execute_result"
    }
   ],
   "source": [
    "df[['returns']].describe()"
   ]
  },
  {
   "cell_type": "markdown",
   "metadata": {},
   "source": [
    "# Plots - Daily Prices and Returns"
   ]
  },
  {
   "cell_type": "code",
   "execution_count": 9,
   "metadata": {},
   "outputs": [
    {
     "data": {
      "image/png": "[encoded data removed]",
      "text/plain": [
       "<Figure size 720x360 with 1 Axes>"
      ]
     },
     "metadata": {},
     "output_type": "display_data"
    }
   ],
   "source": [
    "plt.figure(figsize=(10, 5))\n",
    "plt.plot(df['dates'], df['prices'])\n",
    "plt.xticks(pd.to_datetime(['2013-01-01', '2014-01-01', '2015-01-01', '2016-01-01', '2017-01-01',\n",
    "           '2018-01-01', '2019-01-01', '2020-01-01']),\n",
    "          ['2013', '2014', '2015', '2016', '2017', '2018', '2019', '2020'])\n",
    "plt.yticks(np.arange(0, 22000, 2000), np.arange(0, 22000, 2000, dtype='int'))\n",
    "plt.xlim(pd.to_datetime('2013-07-01'), pd.to_datetime('2020-08-13'))\n",
    "plt.ylim(0, 20000)\n",
    "plt.ylabel('Daily Prices', size=12)\n",
    "plt.figtext(0.95, -0.03, \"Julián Amaya (github.com/AmayaJulian)\", ha=\"right\", fontsize=12)\n",
    "plt.show()"
   ]
  },
  {
   "cell_type": "code",
   "execution_count": 10,
   "metadata": {},
   "outputs": [
    {
     "data": {
      "image/png": "[encoded data removed]",
      "text/plain": [
       "<Figure size 720x360 with 1 Axes>"
      ]
     },
     "metadata": {},
     "output_type": "display_data"
    }
   ],
   "source": [
    "plt.figure(figsize=(10, 5))\n",
    "plt.plot(df['dates'], df['returns'])\n",
    "plt.xticks(pd.to_datetime(['2013-01-01', '2014-01-01', '2015-01-01', '2016-01-01', '2017-01-01',\n",
    "           '2018-01-01', '2019-01-01', '2020-01-01']),\n",
    "          ['2013', '2014', '2015', '2016', '2017', '2018', '2019', '2020'])\n",
    "plt.yticks(np.arange(-0.3, 0.4, 0.1), ['-.30', '-.20', '-.10', '.00', '.10', '.20', '.30'])\n",
    "plt.xlim(pd.to_datetime('2013-07-01'), pd.to_datetime('2020-08-13'))\n",
    "plt.ylim(-0.3, 0.3)\n",
    "plt.ylabel('Returns', size=12)\n",
    "plt.figtext(0.95, -0.03, \"Julián Amaya (github.com/AmayaJulian)\", ha=\"right\", fontsize=12)\n",
    "plt.show()"
   ]
  }
 ],
 "metadata": {
  "kernelspec": {
   "display_name": "Python 3",
   "language": "python",
   "name": "python3"
  },
  "language_info": {
   "codemirror_mode": {
    "name": "ipython",
    "version": 3
   },
   "file_extension": ".py",
   "mimetype": "text/x-python",
   "name": "python",
   "nbconvert_exporter": "python",
   "pygments_lexer": "ipython3",
   "version": "3.8.3"
  }
 },
 "nbformat": 4,
 "nbformat_minor": 4
}
